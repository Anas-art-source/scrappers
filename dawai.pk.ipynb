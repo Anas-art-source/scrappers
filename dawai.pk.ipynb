{
 "cells": [
  {
   "cell_type": "code",
   "execution_count": 1,
   "id": "0c80f19e",
   "metadata": {},
   "outputs": [],
   "source": [
    "import pandas as pd\n",
    "import numpy as np\n",
    "# import matplotlib as  plt\n",
    "\n",
    "# %matplotlib inline\n",
    "pd.set_option('display.max_columns', 50)\n",
    "from urllib.request import urlopen\n",
    "from bs4  import BeautifulSoup\n",
    "\n",
    "import re\n",
    "import requests\n",
    "\n",
    "alpha = [\"a\", 'b', 'c', 'd', 'e', 'f', 'g', 'h', 'i', 'j', 'k', 'l', 'm', 'n', 'o', 'p', 'q', 'r', 's', 't', 'u', 'v', 'w', 'x', 'y', 'z']\n",
    "\n",
    "\n",
    "def pageSoup(alpha):\n",
    "    baseurl  = f'https://dawaai.pk/all-medicines/{alpha}'\n",
    "    # header for preventing the mod_security error\n",
    "    headers = {\n",
    "    'User-Agent':'Mozilla/5.0 (Windows NT 10.0; Win64; x64) AppleWebKit/537.36 (KHTML, like Gecko) Chrome/74.0.3729.169 Safari/537.36',}\n",
    "    r = requests.get(url=baseurl,headers=headers)\n",
    "    soup = BeautifulSoup(r.content, 'xml')\n",
    "    return soup"
   ]
  },
  {
   "cell_type": "code",
   "execution_count": 2,
   "id": "562c1c2b",
   "metadata": {},
   "outputs": [],
   "source": [
    "\n",
    "def productSoup(link):\n",
    "    baseurl  = link\n",
    "    # header for preventing the mod_security error\n",
    "    headers = {\n",
    "    'User-Agent':'Mozilla/5.0 (Windows NT 10.0; Win64; x64) AppleWebKit/537.36 (KHTML, like Gecko) Chrome/74.0.3729.169 Safari/537.36',}\n",
    "    r = requests.get(url=baseurl,headers=headers)\n",
    "    soup = BeautifulSoup(r.content, 'xml')\n",
    "    return soup"
   ]
  },
  {
   "cell_type": "code",
   "execution_count": 18,
   "id": "422f950b",
   "metadata": {},
   "outputs": [
    {
     "name": "stdout",
     "output_type": "stream",
     "text": [
      " \n"
     ]
    }
   ],
   "source": [
    "products = []\n",
    "\n",
    "for letter in alpha:\n",
    "    print(letter)\n",
    "    soup = pageSoup(letter)\n",
    "    allProducts = soup.select('div.col-xs-6 > div.card > div.card-image')\n",
    "    for product in allProducts:\n",
    "        href = product.select('a')[0]['href']\n",
    "        products.append(href)\n",
    "    \n",
    "print(\" \")    "
   ]
  },
  {
   "cell_type": "code",
   "execution_count": 4,
   "id": "50c5d78a",
   "metadata": {},
   "outputs": [],
   "source": [
    "def productDetail(soup):\n",
    "    try:\n",
    "        img = ''\n",
    "        name = \"\"\n",
    "        brandName = ''\n",
    "        className = \"\"\n",
    "        generic = \"\"\n",
    "        try:\n",
    "            img = soup.select('div.product-image-container > picture > source > source > source > img')[0]['src']\n",
    "        except:\n",
    "            img = soup.select('div.product-image-container > img')[0]['src']\n",
    "        print(img)\n",
    "        try:\n",
    "            name = soup.select('h1.mb-10')[0].getText()\n",
    "        except:\n",
    "            name = \"\"\n",
    "        try:\n",
    "            brandName = soup.select('span.brand-name > a')[0].getText()\n",
    "        except:\n",
    "            brandName = \"\"\n",
    "        try:\n",
    "            className = soup.select(\"a.prescription\")[0].getText()\n",
    "        except:\n",
    "            className = \"\"\n",
    "        try:\n",
    "            generic = soup.select(\"a.block\")[0].getText()\n",
    "        except:\n",
    "            generic = \"\"\n",
    "            \n",
    "        return {\n",
    "            \"name\": name,\n",
    "            \"img\": img,\n",
    "            \"brandName\": brandName,\n",
    "            \"className\": className,\n",
    "            \"generic\": generic\n",
    "        }\n",
    "    except:\n",
    "         return {\n",
    "            \"name\": \"\",\n",
    "            \"img\":\"\",\n",
    "            \"brandName\": \"\",\n",
    "            \"className\": \"\",\n",
    "            \"generic\": \"\"\n",
    "         }"
   ]
  },
  {
   "cell_type": "code",
   "execution_count": 5,
   "id": "63f17c63",
   "metadata": {},
   "outputs": [],
   "source": [
    "p = []\n"
   ]
  },
  {
   "cell_type": "code",
   "execution_count": 17,
   "id": "5ee48bd3",
   "metadata": {},
   "outputs": [
    {
     "name": "stdout",
     "output_type": "stream",
     "text": [
      " \n"
     ]
    }
   ],
   "source": [
    "index = 0\n",
    "for link in products:\n",
    "    index += 1\n",
    "    print(index)\n",
    "    ps = productSoup(link)\n",
    "    product = productDetail(ps)\n",
    "    print(product)\n",
    "    p.append(product)\n",
    "\n",
    "print(\" \")"
   ]
  },
  {
   "cell_type": "code",
   "execution_count": 12,
   "id": "95b57219",
   "metadata": {},
   "outputs": [
    {
     "data": {
      "text/plain": [
       "18628"
      ]
     },
     "execution_count": 12,
     "metadata": {},
     "output_type": "execute_result"
    }
   ],
   "source": [
    "len(p)"
   ]
  },
  {
   "cell_type": "code",
   "execution_count": 13,
   "id": "ea31beee",
   "metadata": {},
   "outputs": [
    {
     "data": {
      "text/html": [
       "<div>\n",
       "<style scoped>\n",
       "    .dataframe tbody tr th:only-of-type {\n",
       "        vertical-align: middle;\n",
       "    }\n",
       "\n",
       "    .dataframe tbody tr th {\n",
       "        vertical-align: top;\n",
       "    }\n",
       "\n",
       "    .dataframe thead th {\n",
       "        text-align: right;\n",
       "    }\n",
       "</style>\n",
       "<table border=\"1\" class=\"dataframe\">\n",
       "  <thead>\n",
       "    <tr style=\"text-align: right;\">\n",
       "      <th></th>\n",
       "      <th>name</th>\n",
       "      <th>img</th>\n",
       "      <th>brandName</th>\n",
       "      <th>className</th>\n",
       "      <th>generic</th>\n",
       "    </tr>\n",
       "  </thead>\n",
       "  <tbody>\n",
       "    <tr>\n",
       "      <th>0</th>\n",
       "      <td>Arix 10mg tablet</td>\n",
       "      <td>https://static-assets.dawaai.pk/img/no-image-p...</td>\n",
       "      <td>Tabletros</td>\n",
       "      <td>Antihistamine, Systemic</td>\n",
       "      <td>Cetirizine (10mg)</td>\n",
       "    </tr>\n",
       "    <tr>\n",
       "      <th>1</th>\n",
       "      <td>Acid Citro 120ml syrup</td>\n",
       "      <td>https://static-assets.dawaai.pk/img/no-image-p...</td>\n",
       "      <td>Delux</td>\n",
       "      <td>Drugs for Urological Pain  Other Urologicals</td>\n",
       "      <td>Sodium Acid Citrate (120ml)</td>\n",
       "    </tr>\n",
       "    <tr>\n",
       "      <th>2</th>\n",
       "      <td>Aponip 7.5mg tablet</td>\n",
       "      <td>https://static-assets.dawaai.pk/img/no-image-p...</td>\n",
       "      <td>Inno Pharma</td>\n",
       "      <td>Anti-rheumatic, Systemic</td>\n",
       "      <td>Meloxicam (7.5mg)</td>\n",
       "    </tr>\n",
       "    <tr>\n",
       "      <th>3</th>\n",
       "      <td>Acid Citro 450ml syrup</td>\n",
       "      <td>https://static-assets.dawaai.pk/img/no-image-p...</td>\n",
       "      <td>Delux</td>\n",
       "      <td>Drugs for Urological Pain  Other Urologicals</td>\n",
       "      <td>Sodium Acid Citrate (450ml)</td>\n",
       "    </tr>\n",
       "    <tr>\n",
       "      <th>4</th>\n",
       "      <td>Atarax 25 mg tablet</td>\n",
       "      <td>https://products.dawaai.pk/800/gskata515_2.png</td>\n",
       "      <td>GlaxoSmithKline</td>\n",
       "      <td>Tranquilizer, Sedative/Hypnotic</td>\n",
       "      <td>Hydroxyzine 2HCI (25 mg)</td>\n",
       "    </tr>\n",
       "  </tbody>\n",
       "</table>\n",
       "</div>"
      ],
      "text/plain": [
       "                     name                                                img  \\\n",
       "0        Arix 10mg tablet  https://static-assets.dawaai.pk/img/no-image-p...   \n",
       "1  Acid Citro 120ml syrup  https://static-assets.dawaai.pk/img/no-image-p...   \n",
       "2     Aponip 7.5mg tablet  https://static-assets.dawaai.pk/img/no-image-p...   \n",
       "3  Acid Citro 450ml syrup  https://static-assets.dawaai.pk/img/no-image-p...   \n",
       "4     Atarax 25 mg tablet     https://products.dawaai.pk/800/gskata515_2.png   \n",
       "\n",
       "         brandName                                     className  \\\n",
       "0        Tabletros                       Antihistamine, Systemic   \n",
       "1            Delux  Drugs for Urological Pain  Other Urologicals   \n",
       "2      Inno Pharma                      Anti-rheumatic, Systemic   \n",
       "3            Delux  Drugs for Urological Pain  Other Urologicals   \n",
       "4  GlaxoSmithKline               Tranquilizer, Sedative/Hypnotic   \n",
       "\n",
       "                       generic  \n",
       "0            Cetirizine (10mg)  \n",
       "1  Sodium Acid Citrate (120ml)  \n",
       "2            Meloxicam (7.5mg)  \n",
       "3  Sodium Acid Citrate (450ml)  \n",
       "4     Hydroxyzine 2HCI (25 mg)  "
      ]
     },
     "execution_count": 13,
     "metadata": {},
     "output_type": "execute_result"
    }
   ],
   "source": [
    "df = pd.DataFrame(p)\n",
    "df.head()"
   ]
  },
  {
   "cell_type": "code",
   "execution_count": 16,
   "id": "3b136692",
   "metadata": {},
   "outputs": [],
   "source": [
    "df.to_excel(\"dawai.pk_assortment.xlsx\", index=False)"
   ]
  }
 ],
 "metadata": {
  "kernelspec": {
   "display_name": "Python 3 (ipykernel)",
   "language": "python",
   "name": "python3"
  },
  "language_info": {
   "codemirror_mode": {
    "name": "ipython",
    "version": 3
   },
   "file_extension": ".py",
   "mimetype": "text/x-python",
   "name": "python",
   "nbconvert_exporter": "python",
   "pygments_lexer": "ipython3",
   "version": "3.10.2"
  }
 },
 "nbformat": 4,
 "nbformat_minor": 5
}
