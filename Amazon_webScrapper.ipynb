{
  "nbformat": 4,
  "nbformat_minor": 0,
  "metadata": {
    "colab": {
      "provenance": [],
      "authorship_tag": "ABX9TyMbg6YM2CuXBFygdthH6gcV",
      "include_colab_link": true
    },
    "kernelspec": {
      "name": "python3",
      "display_name": "Python 3"
    },
    "language_info": {
      "name": "python"
    }
  },
  "cells": [
    {
      "cell_type": "markdown",
      "metadata": {
        "id": "view-in-github",
        "colab_type": "text"
      },
      "source": [
        "<a href=\"https://colab.research.google.com/github/Anas-art-source/scrappers/blob/main/Amazon_webScrapper.ipynb\" target=\"_parent\"><img src=\"https://colab.research.google.com/assets/colab-badge.svg\" alt=\"Open In Colab\"/></a>"
      ]
    },
    {
      "cell_type": "code",
      "execution_count": 1,
      "metadata": {
        "id": "n7PWIq02dYT2"
      },
      "outputs": [],
      "source": [
        "import pandas as pd\n",
        "import numpy as np\n",
        "import matplotlib as  plt\n",
        "\n",
        "%matplotlib inline\n",
        "pd.set_option('display.max_columns', 50)\n",
        "from urllib.request import urlopen\n",
        "from bs4  import BeautifulSoup\n",
        "\n",
        "import re\n",
        "import requests"
      ]
    },
    {
      "cell_type": "code",
      "source": [
        "# Headers to mimic regular browsing behavior\n",
        "headers = {\n",
        "    'User-Agent': 'Mozilla/5.0 (Windows NT 10.0; Win64; x64) AppleWebKit/537.36 (KHTML, like Gecko) Chrome/96.0.4664.110 Safari/537.36',\n",
        "    'Referer': 'http://example.com',\n",
        "    'Accept': 'text/html,application/xhtml+xml,application/xml;q=0.9,image/avif,image/webp,image/apng,*/*;q=0.8,application/signed-exchange;v=b3;q=0.9',\n",
        "    'Accept-Language': 'en-US,en;q=0.9',\n",
        "    'Content-Type': 'application/x-www-form-urlencoded',\n",
        "    # Add more headers as needed\n",
        "}\n"
      ],
      "metadata": {
        "id": "wY7hXfIQgWFz"
      },
      "execution_count": 144,
      "outputs": []
    },
    {
      "cell_type": "code",
      "source": [
        "r = requests.get('https://www.amazon.com/s/query?crid=2CD73WE70K046&k=chocolates&page=48&qid=1708532738&ref=sr_pg_1&sprefix=chocolates%2Caps%2C428',  headers=headers)\n",
        "soup = BeautifulSoup(r.content,'html.parser')\n",
        "# import json\n",
        "soup\n",
        "# X = json.load('https://www.aliexpress.com/aeglodetailweb/api/store/header?itemId=1005005044551197&categoryId=200003487&sellerAdminSeq=243840082&storeNum=1100170180&minPrice=334135.25&maxPrice=334135.25&priceCurrency=USD&rootCategoryId=44&ext=%7B%22itemScene%22%3A%22default%22%2C%22p0%22%3A%2212000031435575945%22%2C%22p1%22%3A%221276.17%22%2C%22p10%22%3A%5B218307%2C218119%2C82052%2C256629%2C111478%2C84809%5D%2C%22p16%22%3Atrue%2C%22p18%22%3A%22default%22%2C%22p3%22%3A%22USD%22%2C%22p4%22%3A%22990000%22%2C%22p5%22%3A%220%22%2C%22p6%22%3A%22null%22%2C%22p7%22%3A%22%7B%7D%22%2C%22p9%22%3A%22US%20%241%2C276.17%22%7D&skipFreight=true&skipCoupon=true')\n",
        ""
      ],
      "metadata": {
        "id": "ytvRkXUIeNDb"
      },
      "execution_count": null,
      "outputs": []
    },
    {
      "cell_type": "code",
      "source": [
        "r.text"
      ],
      "metadata": {
        "id": "EajiPdIzmWIk"
      },
      "execution_count": null,
      "outputs": []
    },
    {
      "cell_type": "code",
      "source": [
        "import ast\n",
        "import json\n",
        "\n",
        "content_list = r.text.split('&&&')"
      ],
      "metadata": {
        "id": "zF5eYQID-ISq"
      },
      "execution_count": 191,
      "outputs": []
    },
    {
      "cell_type": "code",
      "source": [
        "for content in content_list:\n",
        "  try:\n",
        "    data = json.loads(content)\n",
        "    if data[1] == 'data-upper-slot':\n",
        "      soup = BeautifulSoup(data[2]['html'], 'html.parser')\n",
        "      page_cnt_tag = soup.select('div.a-section.a-spacing-small.a-spacing-top-small span')\n",
        "      page_cnt = page_cnt_tag[0].getText()\n",
        "      page_cnt = int(page_cnt.split(\" \")[0].split('-')[1])\n",
        "      print(page_cnt_tag)\n",
        "  except:\n",
        "    pass"
      ],
      "metadata": {
        "colab": {
          "base_uri": "https://localhost:8080/"
        },
        "id": "bcN5EbgA-KhQ",
        "outputId": "7a326f56-a478-46f7-af00-1db1ee679824"
      },
      "execution_count": 192,
      "outputs": [
        {
          "output_type": "stream",
          "name": "stdout",
          "text": [
            "[<span>2,257-306 of over 100,000 results for</span>, <span> </span>, <span class=\"a-color-state a-text-bold\">\"chocolates\"</span>, <span class=\"a-dropdown-container\"><label class=\"a-native-dropdown\" for=\"s-result-sort-select\">Sort by:</label><select autocomplete=\"off\" class=\"a-native-dropdown a-declarative\" data-action=\"a-dropdown-select\" id=\"s-result-sort-select\" name=\"s\" tabindex=\"0\">\n",
            "<option data-url=\"/s?k=chocolates&amp;s=relevanceblender&amp;crid=2CD73WE70K046&amp;qid=1708541347&amp;sprefix=chocolates%2Caps%2C428&amp;ref=sr_st_relevanceblender&amp;ds=v1%3A7hBmm50GG%2FmPtbkAqOedlDuf4e7PpkLUsnCUOs0v0wg\" selected=\"\" value=\"relevanceblender\">Featured</option>\n",
            "<option data-url=\"/s?k=chocolates&amp;s=price-asc-rank&amp;crid=2CD73WE70K046&amp;qid=1708541347&amp;sprefix=chocolates%2Caps%2C428&amp;ref=sr_st_price-asc-rank&amp;ds=v1%3Alekpr5jaHa6Euxu1cuJgS00yoRc95%2BZW64%2BnInrxccE\" value=\"price-asc-rank\">Price: Low to High</option>\n",
            "<option data-url=\"/s?k=chocolates&amp;s=price-desc-rank&amp;crid=2CD73WE70K046&amp;qid=1708541347&amp;sprefix=chocolates%2Caps%2C428&amp;ref=sr_st_price-desc-rank&amp;ds=v1%3AFv5TI88kn1Qck6uUh7HrE04mjy%2FJEvBb70HbieTD68g\" value=\"price-desc-rank\">Price: High to Low</option>\n",
            "<option data-url=\"/s?k=chocolates&amp;s=review-rank&amp;crid=2CD73WE70K046&amp;qid=1708541347&amp;sprefix=chocolates%2Caps%2C428&amp;ref=sr_st_review-rank&amp;ds=v1%3AqEcKLnQ05LZEBT9GtdTeSHgqVxf0VEGdjTl9WMUT8JU\" value=\"review-rank\">Avg. Customer Review</option>\n",
            "<option data-url=\"/s?k=chocolates&amp;s=date-desc-rank&amp;crid=2CD73WE70K046&amp;qid=1708541347&amp;sprefix=chocolates%2Caps%2C428&amp;ref=sr_st_date-desc-rank&amp;ds=v1%3ABCCWkCZV%2FvjDULeZC3%2BRkTnUoZY%2BGycQQO0aDMIWE5s\" value=\"date-desc-rank\">Newest Arrivals</option>\n",
            "<option data-url=\"/s?k=chocolates&amp;s=exact-aware-popularity-rank&amp;crid=2CD73WE70K046&amp;qid=1708541347&amp;sprefix=chocolates%2Caps%2C428&amp;ref=sr_st_exact-aware-popularity-rank&amp;ds=v1%3ASwf07Mf2FOdyMMFJWR0s3k4r7lJNJuFDptqtb8YfNVU\" value=\"exact-aware-popularity-rank\">Best Sellers</option>\n",
            "</select><span aria-hidden=\"true\" aria-label=\"Sort by:\" class=\"a-button a-button-dropdown a-button-small\" tabindex=\"-1\"><span class=\"a-button-inner\"><span aria-hidden=\"true\" class=\"a-button-text a-declarative\" data-action=\"a-dropdown-button\" data-csa-c-func-deps=\"aui-da-a-dropdown-button\" data-csa-c-type=\"widget\" data-csa-interaction-events=\"click\"><span class=\"a-dropdown-label\">Sort by:</span><span class=\"a-dropdown-prompt\">Featured</span></span><i class=\"a-icon a-icon-dropdown\"></i></span></span></span>, <span aria-hidden=\"true\" aria-label=\"Sort by:\" class=\"a-button a-button-dropdown a-button-small\" tabindex=\"-1\"><span class=\"a-button-inner\"><span aria-hidden=\"true\" class=\"a-button-text a-declarative\" data-action=\"a-dropdown-button\" data-csa-c-func-deps=\"aui-da-a-dropdown-button\" data-csa-c-type=\"widget\" data-csa-interaction-events=\"click\"><span class=\"a-dropdown-label\">Sort by:</span><span class=\"a-dropdown-prompt\">Featured</span></span><i class=\"a-icon a-icon-dropdown\"></i></span></span>, <span class=\"a-button-inner\"><span aria-hidden=\"true\" class=\"a-button-text a-declarative\" data-action=\"a-dropdown-button\" data-csa-c-func-deps=\"aui-da-a-dropdown-button\" data-csa-c-type=\"widget\" data-csa-interaction-events=\"click\"><span class=\"a-dropdown-label\">Sort by:</span><span class=\"a-dropdown-prompt\">Featured</span></span><i class=\"a-icon a-icon-dropdown\"></i></span>, <span aria-hidden=\"true\" class=\"a-button-text a-declarative\" data-action=\"a-dropdown-button\" data-csa-c-func-deps=\"aui-da-a-dropdown-button\" data-csa-c-type=\"widget\" data-csa-interaction-events=\"click\"><span class=\"a-dropdown-label\">Sort by:</span><span class=\"a-dropdown-prompt\">Featured</span></span>, <span class=\"a-dropdown-label\">Sort by:</span>, <span class=\"a-dropdown-prompt\">Featured</span>, <span class=\"a-button a-button-base\"><span class=\"a-button-inner\"><input class=\"a-button-input\" type=\"submit\" value=\"Go\"/><span aria-hidden=\"true\" class=\"a-button-text\">Go</span></span></span>, <span class=\"a-button-inner\"><input class=\"a-button-input\" type=\"submit\" value=\"Go\"/><span aria-hidden=\"true\" class=\"a-button-text\">Go</span></span>, <span aria-hidden=\"true\" class=\"a-button-text\">Go</span>]\n"
          ]
        }
      ]
    },
    {
      "cell_type": "code",
      "source": [
        "product_data = []\n",
        "for content in content_list:\n",
        "  try:\n",
        "    data = json.loads(content)\n",
        "    if data[1][:14] == 'data-main-slot':\n",
        "          soup = BeautifulSoup(data[2]['html'], 'html.parser')\n",
        "          title_tag = soup.select('span.a-size-base-plus.a-color-base.a-text-normal')\n",
        "          title = title_tag[0].getText()\n",
        "          price_tag = soup.select('div.a-section.a-spacing-none.a-spacing-top-mini.puis-interactive-asin-expander-hide span.a-color-base')\n",
        "          price = price_tag[0].getText()\n",
        "          image_tag = soup.select('div.a-section.aok-relative.s-image-square-aspect img.s-image')\n",
        "          image = image_tag[0].attrs['src']\n",
        "          rating_tag = soup.select('span.a-icon-alt')\n",
        "          rating = rating_tag[0].getText()\n",
        "          rating_cnt_tag = soup.select('span.a-size-base.s-underline-text')\n",
        "          rating_cnt = rating_cnt_tag[0].getText()\n",
        "          print(rating_cnt)\n",
        "\n",
        "  except:\n",
        "    pass"
      ],
      "metadata": {
        "id": "6Q5k3j0ihz25"
      },
      "execution_count": 193,
      "outputs": []
    }
  ]
}