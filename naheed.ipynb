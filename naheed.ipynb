{
 "cells": [
  {
   "cell_type": "code",
   "execution_count": 1,
   "id": "9ff47d12",
   "metadata": {},
   "outputs": [],
   "source": [
    "import pandas as pd\n",
    "import numpy as np\n",
    "# import matplotlib as  plt\n",
    "\n",
    "# %matplotlib inline\n",
    "pd.set_option('display.max_columns', 50)\n",
    "from urllib.request import urlopen\n",
    "from bs4  import BeautifulSoup\n",
    "\n",
    "import re\n",
    "import requests\n",
    "\n",
    "\n",
    "baseurl  = 'https://www.daraz.pk/'\n",
    "\n",
    "headers = {\n",
    "    'User-Agent':'Mozilla/5.0 (Windows NT 10.0; Win64; x64) AppleWebKit/537.36 (KHTML, like Gecko) Chrome/74.0.3729.169 Safari/537.36',\n",
    "}\n",
    "\n",
    "r = requests.get('https://www.naheed.pk/')\n",
    "soup = BeautifulSoup(r.content,'lxml')\n",
    "# print(soup)"
   ]
  },
  {
   "cell_type": "code",
   "execution_count": 2,
   "id": "128b2905",
   "metadata": {},
   "outputs": [
    {
     "data": {
      "text/plain": [
       "[{'category': 'Groceries & Pets ',\n",
       "  'link': 'https://www.naheed.pk/groceries-pets'},\n",
       " {'category': 'Health & Beauty ',\n",
       "  'link': 'https://www.naheed.pk/health-beauty'},\n",
       " {'category': 'Phones & Tablets ',\n",
       "  'link': 'https://www.naheed.pk/phones-tablets'},\n",
       " {'category': 'Electronic Accessories ',\n",
       "  'link': 'https://www.naheed.pk/electronic-accessories'},\n",
       " {'category': 'TV & Home Appliances ',\n",
       "  'link': 'https://www.naheed.pk/tv-home-appliances'},\n",
       " {'category': 'Computing & Gaming ',\n",
       "  'link': 'https://www.naheed.pk/computing-gaming'},\n",
       " {'category': \"Women's Fashion \",\n",
       "  'link': 'https://www.naheed.pk/womens-fashion'},\n",
       " {'category': \"Men's Fashion \", 'link': 'https://www.naheed.pk/men-s-fashion'},\n",
       " {'category': 'Home & Lifestyle ',\n",
       "  'link': 'https://www.naheed.pk/home-lifestyle'},\n",
       " {'category': 'Medical & Nutrition ',\n",
       "  'link': 'https://www.naheed.pk/medical-nutrition'},\n",
       " {'category': 'Kids & Babies ', 'link': 'https://www.naheed.pk/kids-babies'},\n",
       " {'category': 'Naheed Products ',\n",
       "  'link': 'https://www.naheed.pk/naheed-products'},\n",
       " {'category': 'Deals Of The Day ',\n",
       "  'link': 'https://www.naheed.pk/deal-of-the-day'},\n",
       " {'category': 'Bundle Deals ', 'link': 'https://www.naheed.pk/bundle-deals'}]"
      ]
     },
     "execution_count": 2,
     "metadata": {},
     "output_type": "execute_result"
    }
   ],
   "source": [
    "category = [{\"category\": x.getText(), \"link\": x['href']} for x in soup.select('div.block-vmagicmenu-content > ul.nav-desktop > li.level0 > a.level-top')]\n",
    "category"
   ]
  },
  {
   "cell_type": "code",
   "execution_count": 3,
   "id": "6110dbeb",
   "metadata": {},
   "outputs": [],
   "source": [
    "testlink = category[0]\n",
    "\n",
    "def getSoup(link):\n",
    "    headers = {\n",
    "        'User-Agent':'Mozilla/5.0 (Windows NT 10.0; Win64; x64) AppleWebKit/537.36 (KHTML, like Gecko) Chrome/74.0.3729.169 Safari/537.36',\n",
    "    }\n",
    "    r = requests.get(link)\n",
    "    soup = BeautifulSoup(r.content,'lxml')\n",
    "    return soup"
   ]
  },
  {
   "cell_type": "code",
   "execution_count": 4,
   "id": "ff4bedcb",
   "metadata": {},
   "outputs": [],
   "source": [
    "p = []"
   ]
  },
  {
   "cell_type": "code",
   "execution_count": 1,
   "id": "65356184",
   "metadata": {},
   "outputs": [],
   "source": [
    "# import math\n",
    "\n",
    "index = 1\n",
    "\n",
    "for cat in category:\n",
    "        print(cat['link'])\n",
    "        testlink = f\"{cat['link']}?p=1&product_list_limit=40\"  \n",
    "        testSoup = getSoup(testlink)\n",
    "        pages = math.ceil(int(testSoup.select('p.toolbar-amount > span.toolbar-number')[-1].getText()) / 40)\n",
    "        for i in range(1, pages + 1):\n",
    "            link = f\"{cat['link']}?p={i}&product_list_limit={40}\"\n",
    "            print(link)\n",
    "            soup= getSoup(link)\n",
    "            productDiv = soup.select(\"div.category-products\")[-1]\n",
    "            cards = productDiv.select('ol.products > li.item > div.product-item-info > div.images-container')\n",
    "            for card in cards:\n",
    "                index += 1\n",
    "                productImage = card.select('div.product-hover > a > img')[0]['src']\n",
    "                productPrice = \"\"\n",
    "                try:\n",
    "                    productPrice = card.select('div.product > div.price-box > span > span > span.price-wrapper')[0]['data-price-amount']\n",
    "                except: \n",
    "                    productPrice = card.select('div.product > div.price-box > span > span.price-wrapper')[0]['data-price-amount']\n",
    "                productName = card.select('div.product > h2 > a')[0].getText()\n",
    "                category = cat['category']\n",
    "                obj = {\n",
    "                    \"name\": productName,\n",
    "                    \"category\": category,\n",
    "                    \"price\": productPrice,\n",
    "                    \"image\": productImage\n",
    "                }\n",
    "                print(index ,obj)\n",
    "                p.append(obj)\n",
    "            \n",
    "\n"
   ]
  },
  {
   "cell_type": "code",
   "execution_count": 9,
   "id": "38e5dd3e",
   "metadata": {},
   "outputs": [],
   "source": [
    "df = pd.DataFrame(p)\n",
    "df.to_excel(\"naheedpk.xlsx\")"
   ]
  },
  {
   "cell_type": "code",
   "execution_count": 6,
   "id": "ede8d5df",
   "metadata": {
    "scrolled": true
   },
   "outputs": [
    {
     "data": {
      "text/plain": [
       "1"
      ]
     },
     "execution_count": 6,
     "metadata": {},
     "output_type": "execute_result"
    }
   ],
   "source": [
    "\n",
    "soup = getSoup('https://www.naheed.pk/medical-nutrition?p=600&product_list_limit=40')\n",
    "pages"
   ]
  },
  {
   "cell_type": "code",
   "execution_count": 7,
   "id": "456cddcd",
   "metadata": {},
   "outputs": [
    {
     "name": "stdout",
     "output_type": "stream",
     "text": [
      "0\n",
      "1\n",
      "2\n",
      "3\n",
      "4\n",
      "5\n",
      "6\n",
      "7\n",
      "8\n"
     ]
    }
   ],
   "source": [
    "for i in range(0, 9):\n",
    "    print(i)"
   ]
  },
  {
   "cell_type": "code",
   "execution_count": 8,
   "id": "90b7e266",
   "metadata": {},
   "outputs": [
    {
     "ename": "NameError",
     "evalue": "name 'productInfo' is not defined",
     "output_type": "error",
     "traceback": [
      "\u001b[1;31m---------------------------------------------------------------------------\u001b[0m",
      "\u001b[1;31mNameError\u001b[0m                                 Traceback (most recent call last)",
      "Input \u001b[1;32mIn [8]\u001b[0m, in \u001b[0;36m<module>\u001b[1;34m\u001b[0m\n\u001b[1;32m----> 1\u001b[0m \u001b[43mproductInfo\u001b[49m\n",
      "\u001b[1;31mNameError\u001b[0m: name 'productInfo' is not defined"
     ]
    }
   ],
   "source": [
    "productInfo"
   ]
  }
 ],
 "metadata": {
  "kernelspec": {
   "display_name": "Python 3 (ipykernel)",
   "language": "python",
   "name": "python3"
  },
  "language_info": {
   "codemirror_mode": {
    "name": "ipython",
    "version": 3
   },
   "file_extension": ".py",
   "mimetype": "text/x-python",
   "name": "python",
   "nbconvert_exporter": "python",
   "pygments_lexer": "ipython3",
   "version": "3.10.2"
  }
 },
 "nbformat": 4,
 "nbformat_minor": 5
}
